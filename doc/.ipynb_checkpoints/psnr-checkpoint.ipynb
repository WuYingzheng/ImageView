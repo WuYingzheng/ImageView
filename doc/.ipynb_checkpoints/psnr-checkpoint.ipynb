{
 "cells": [
  {
   "cell_type": "markdown",
   "metadata": {},
   "source": [
    "Peak signal-to-noise ratio (PSNR) is the ratio between the maximum possible power of an image and the power of corrupting noise that affects the quality of its representation. To estimate the PSNR of an image, it is necessary to compare that image to an ideal clean image with the maximum possible power.\n",
    "\n",
    "PSNR is defined as follows:\n",
    "\n",
    "\\begin{equation}\n",
    "PSNR = 10 * log10 \\left( \\frac{\\left(L -1\\right)^2}{MSE} \\right)\n",
    "     = 20 * log10 \\left( \\frac{L -1}{RMSE} \\right)\n",
    "\\end{equation}\n",
    "\n",
    "Here, L is the number of maximum possible intensity levels (minimum intensity level suppose to be 0) in an image.\n",
    "MSE is the mean squared error, and it is defined as:\n",
    "\n",
    "\\begin{equation}\n",
    "MSE = \\frac{1}{mn}\\sum_{i=0}^{m-1}\\sum_{j=0}^{n-1}\\left( O\\left(i, j\\right) - L\\left(i, j\\right) \\right)^2\n",
    "\\end{equation}\n",
    "\n",
    "Where, O represents the matrix data of original image. D represents the matrix data of degraded image. m represents the numbers of rows of pixels and i represents the index of that row of the image. n represents the number of columns of pixels and j represents the index of that column of the image.\n",
    "RMSE is the root mean squared error.\n",
    "\n",
    "Here, we have an original image and it’s compressed version, let’s see the PSNR value for these images,\n"
   ]
  },
  {
   "cell_type": "code",
   "execution_count": 1,
   "metadata": {},
   "outputs": [],
   "source": [
    "from math import log10, sqrt \n",
    "import cv2 \n",
    "import numpy as np \n",
    "  \n",
    "def PSNR(original, compressed): \n",
    "    mse = np.mean((original - compressed) ** 2) \n",
    "    if(mse == 0):  # MSE is zero means no noise is present in the signal . \n",
    "                  # Therefore PSNR have no importance. \n",
    "        return 100\n",
    "    max_pixel = 255.0\n",
    "    psnr = 20 * log10(max_pixel / sqrt(mse)) \n",
    "    return psnr \n",
    "\n",
    "def main(): \n",
    "     original = cv2.imread(\"original_image.png\") \n",
    "     compressed = cv2.imread(\"compressed_image.png\", 1) \n",
    "     value = PSNR(original, compressed) \n",
    "     print(f\"PSNR value is {value} dB\") \n"
   ]
  },
  {
   "cell_type": "markdown",
   "metadata": {},
   "source": [
    "About PSNR https://www.geeksforgeeks.org/python-peak-signal-to-noise-ratio-psnr/\n",
    "\n",
    "About how to edit LaTeX/Mathematics\n",
    "https://en.wikibooks.org/wiki/LaTeX/Mathematics"
   ]
  }
 ],
 "metadata": {
  "kernelspec": {
   "display_name": "Python 3.6.9 64-bit",
   "language": "python",
   "name": "python36964bitdfc521a2181d4d6cb0cd6b4f1229928a"
  },
  "language_info": {
   "codemirror_mode": {
    "name": "ipython",
    "version": 3
   },
   "file_extension": ".py",
   "mimetype": "text/x-python",
   "name": "python",
   "nbconvert_exporter": "python",
   "pygments_lexer": "ipython3",
   "version": "3.6.9"
  }
 },
 "nbformat": 4,
 "nbformat_minor": 2
}
